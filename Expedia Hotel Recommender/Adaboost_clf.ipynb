{
 "cells": [
  {
   "cell_type": "code",
   "execution_count": 1,
   "metadata": {},
   "outputs": [
    {
     "name": "stdout",
     "output_type": "stream",
     "text": [
      "fitting model\n",
      "predicting..\n",
      "recommendation 1 11760\n",
      "recommendation 2 2727\n",
      "recommendation 3 1461\n",
      "recommendation 4 1064\n",
      "recommendation 5 854\n",
      "map5: 0.4682433333333333\n"
     ]
    }
   ],
   "source": [
    "from sklearn.ensemble import AdaBoostClassifier\n",
    "from sklearn.tree import DecisionTreeClassifier\n",
    "import pickle\n",
    "import numpy as np\n",
    "\n",
    "rftrain_vect = []\n",
    "rftrain_op = []\n",
    "\n",
    "with open(\"rftrain_vect\",\"rb\") as file:\n",
    "    rftrain_vect = np.array(pickle.load(file))\n",
    "with open(\"rftrain_op\",\"rb\") as file:\n",
    "    rftrain_op = np.array(pickle.load(file))\n",
    "\n",
    "X_test = []\n",
    "y_test = []\n",
    "\n",
    "with open(\"X_test\",\"rb\") as file:\n",
    "    X_test = np.array(pickle.load(file))\n",
    "with open(\"y_test\",\"rb\") as file:\n",
    "    y_test = np.array(pickle.load(file))\n",
    "import sys\n",
    "md = 30\n",
    "nest = 500\n",
    "clf = AdaBoostClassifier(\n",
    "    DecisionTreeClassifier(max_depth=md),\n",
    "    n_estimators=nest\n",
    ")\n",
    "print(\"fitting model\")\n",
    "clf.fit(rftrain_vect,rftrain_op)\n",
    "print(\"predicting..\")\n",
    "predz = clf.predict_proba(X_test)\n",
    "\n",
    "with open(\"ADA_PREDICTIONS_md_\"+str(md)+\"_nest_\"+str(nest),\"wb\") as file:\n",
    "\tpickle.dump(predz,file)\n",
    "\n",
    "def map5eval2(preds,actual):\n",
    "    predicted = []\n",
    "    for i in range(preds.shape[0]):\n",
    "        predicted.append(preds[i].argsort()[-5:][::-1])\n",
    "    predicted = np.array(predicted)\n",
    "    metric = 0.\n",
    "    for i in range(5):\n",
    "        metric += np.sum(actual==predicted[:,i])/(i+1)\n",
    "        print(\"recommendation\",i+1,np.sum(actual==predicted[:,i]))\n",
    "    metric /= actual.shape[0]\n",
    "    return 'MAP@5', metric, False\n",
    "\n",
    "print(\"map5:\",map5eval2(predz,y_test)[1])"
   ]
  },
  {
   "cell_type": "code",
   "execution_count": null,
   "metadata": {},
   "outputs": [],
   "source": [
    "# started at 18:25"
   ]
  }
 ],
 "metadata": {
  "kernelspec": {
   "display_name": "Python 3",
   "language": "python",
   "name": "python3"
  },
  "language_info": {
   "codemirror_mode": {
    "name": "ipython",
    "version": 3
   },
   "file_extension": ".py",
   "mimetype": "text/x-python",
   "name": "python",
   "nbconvert_exporter": "python",
   "pygments_lexer": "ipython3",
   "version": "3.6.8"
  }
 },
 "nbformat": 4,
 "nbformat_minor": 2
}
