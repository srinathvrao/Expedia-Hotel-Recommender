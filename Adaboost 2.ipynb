{
 "cells": [
  {
   "cell_type": "code",
   "execution_count": 1,
   "metadata": {},
   "outputs": [
    {
     "name": "stdout",
     "output_type": "stream",
     "text": [
      "fitting model\n",
      "predicting..\n",
      "recommendation 1 11721\n",
      "recommendation 2 2608\n",
      "recommendation 3 1478\n",
      "recommendation 4 1103\n",
      "recommendation 5 841\n",
      "map5: 0.46538722222222223\n"
     ]
    }
   ],
   "source": [
    "from sklearn.ensemble import AdaBoostClassifier\n",
    "from sklearn.tree import DecisionTreeClassifier\n",
    "import pickle\n",
    "import numpy as np\n",
    "\n",
    "rftrain_vect = []\n",
    "rftrain_op = []\n",
    "\n",
    "with open(\"rftrain_vect\",\"rb\") as file:\n",
    "    rftrain_vect = np.array(pickle.load(file))\n",
    "with open(\"rftrain_op\",\"rb\") as file:\n",
    "    rftrain_op = np.array(pickle.load(file))\n",
    "\n",
    "X_test = []\n",
    "y_test = []\n",
    "\n",
    "with open(\"X_test\",\"rb\") as file:\n",
    "    X_test = np.array(pickle.load(file))\n",
    "with open(\"y_test\",\"rb\") as file:\n",
    "    y_test = np.array(pickle.load(file))\n",
    "import sys\n",
    "md = 20\n",
    "nest = 500\n",
    "clf = AdaBoostClassifier(\n",
    "    DecisionTreeClassifier(max_depth=md),\n",
    "    n_estimators=nest\n",
    ")\n",
    "print(\"fitting model\")\n",
    "clf.fit(rftrain_vect,rftrain_op)\n",
    "print(\"predicting..\")\n",
    "predz = clf.predict_proba(X_test)\n",
    "\n",
    "with open(\"ADA_PREDICTIONS_md_\"+str(md)+\"_nest_\"+str(nest),\"wb\") as file:\n",
    "\tpickle.dump(predz,file)\n",
    "\n",
    "def map5eval2(preds,actual):\n",
    "    predicted = []\n",
    "    for i in range(preds.shape[0]):\n",
    "        predicted.append(preds[i].argsort()[-5:][::-1])\n",
    "    predicted = np.array(predicted)\n",
    "    metric = 0.\n",
    "    for i in range(5):\n",
    "        metric += np.sum(actual==predicted[:,i])/(i+1)\n",
    "        print(\"recommendation\",i+1,np.sum(actual==predicted[:,i]))\n",
    "    metric /= actual.shape[0]\n",
    "    return 'MAP@5', metric, False\n",
    "\n",
    "print(\"map5:\",map5eval2(predz,y_test)[1])"
   ]
  },
  {
   "cell_type": "code",
   "execution_count": 2,
   "metadata": {
    "scrolled": true
   },
   "outputs": [],
   "source": [
    "import pickle\n",
    "import numpy as np\n",
    "\n",
    "def map5eval(preds, actual):\n",
    "    predicted = []\n",
    "    for i in range(preds.shape[0]):\n",
    "        predicted.append(preds[i].argsort()[-5:][::-1])\n",
    "    predicted = np.array(predicted)\n",
    "    metric = 0.\n",
    "    for i in range(5):\n",
    "        metric += np.sum(actual==predicted[:,i])/(i+1)\n",
    "        print(\"recommendation\",i+1,\":\",np.sum(actual==predicted[:,i]))\n",
    "    metric /= actual.shape[0]\n",
    "    return metric\n",
    "\n",
    "def map5eval2(predicted, actual):\n",
    "    metric = 0.\n",
    "    for i in range(5):\n",
    "        metric += np.sum(actual==predicted[:,i])/(i+1)\n",
    "#         print(\"recommendation\",i+1,\":\",np.sum(actual==predicted[:,i]))\n",
    "    metric /= actual.shape[0]\n",
    "    return metric\n",
    "\n",
    "xgb_preds = []\n",
    "with open(\"XGB_PREDICTIONS_2\",\"rb\") as file:\n",
    "    # xgb_preds = pickle.load(file)\n",
    "    xgb_preds = pickle.load(file)\n",
    "rf_preds = []\n",
    "with open(\"RF_PREDICTIONS_FINALLL\",\"rb\") as file:\n",
    "    rf_preds = pickle.load(file)\n",
    "ada_preds = []\n",
    "with open(\"ADA_PREDICTIONS_md_20_nest_500\",\"rb\") as file:\n",
    "\tada_preds = pickle.load(file)\n",
    "y_test = []\n",
    "with open(\"y_test\",\"rb\") as file:\n",
    "    y_test = np.array(pickle.load(file))\n",
    "\n",
    "# print(\"RandomForest:\")\n",
    "# print(\"rf map5:\",map5eval(rf_preds,y_test))\n",
    "# print(\"XGBoost:\")\n",
    "# print(\"xgb map5:\",map5eval(xgb_preds,y_test))\n",
    "# print(\"adaboost:\")\n",
    "# print(\"ada map5:\",map5eval(ada_preds,y_test))\n",
    "# w1 = 2.3 # rf weight - 4.2: 0.4542 --> 4.23\n",
    "# w2 = 2 # xgb weight - 2: 0.455\n",
    "# w3 = 2.5 # ada weight\n",
    "# w1 = 2.5\n",
    "# w2 = 1.5\n",
    "# w3 = 4\n",
    "import time\n",
    "tm=0\n",
    "wm=[]\n",
    "weights = []\n",
    "test_map5s = []\n",
    "train_map5s = []\n",
    "for w1 in range(1,11):\n",
    "    for w2 in range(1,11):\n",
    "        for w3 in range(1,15):\n",
    "            if w1==w2 and w2==w3 and w1!=1:\n",
    "                continue\n",
    "            print(\"w1:\",w1,\"w2:\",w2,\"w3:\",w3)\n",
    "            finprobs = []\n",
    "            strtime = time.time()\n",
    "            '''\n",
    "            for i in range(20000):\n",
    "                p1 = rf_preds[i].argsort()[-5:][::-1]\n",
    "                p2 = xgb_preds[i].argsort()[-5:][::-1]\n",
    "                p3 = ada_preds[i].argsort()[-5:][::-1]\n",
    "                p1_scores = sorted(rf_preds[i])[-5:][::-1]\n",
    "                p2_scores = sorted(xgb_preds[i])[-5:][::-1]\n",
    "                p3_scores = sorted(ada_preds[i])[-5:][::-1]\n",
    "                probs = [0]*100\n",
    "                for k in range(5):\n",
    "                    if p1[k]==p2[k] and p1[k] == p3[k]:\n",
    "                        probs[p1[k]] += (w1*p1_scores[k]) + (w2*p2_scores[k]) + (w3*p3_scores[k])\n",
    "                    elif p1[k]==p2[k]:\n",
    "                        probs[p1[k]] += (w1*p1_scores[k]) + (w2*p2_scores[k])\n",
    "                        probs[p3[k]] += (w3*p3_scores[k])\n",
    "                    elif p2[k]==p3[k]:\n",
    "                        probs[p2[k]] += (w2*p2_scores[k]) + (w3*p3_scores[k])\n",
    "                        probs[p1[k]] += (w1*p1_scores[k])\n",
    "                    elif p1[k]==p3[k]:\n",
    "                        probs[p1[k]] += (w1*p1_scores[k]) + (w3*p3_scores[k])\n",
    "                        probs[p2[k]] += (w2*p2_scores[k])\n",
    "                    else:\n",
    "                        probs[p1[k]] += (w1*p1_scores[k])\n",
    "                        probs[p2[k]] += (w2*p2_scores[k])\n",
    "                        probs[p3[k]] += (w3*p3_scores[k])\n",
    "\n",
    "                probs = np.array(probs).argsort()[-5:][::-1]\n",
    "                finprobs.append(probs)\n",
    "            trmap5 = map5eval2(np.array(finprobs),y_test[:20000])\n",
    "            print(\"train ensemble map5:\",trmap5)'''\n",
    "            finprobs=[]\n",
    "            for i in range(20000,30000):\n",
    "                p1 = rf_preds[i].argsort()[-5:][::-1]\n",
    "                p2 = xgb_preds[i].argsort()[-5:][::-1]\n",
    "                p3 = ada_preds[i].argsort()[-5:][::-1]\n",
    "                p1_scores = sorted(rf_preds[i])[-5:][::-1]\n",
    "                p2_scores = sorted(xgb_preds[i])[-5:][::-1]\n",
    "                p3_scores = sorted(ada_preds[i])[-5:][::-1]\n",
    "                probs = [0]*100\n",
    "                for k in range(5):\n",
    "                    if p1[k]==p2[k] and p1[k] == p3[k]:\n",
    "                        probs[p1[k]] += (w1*p1_scores[k]) + (w2*p2_scores[k]) + (w3*p3_scores[k])\n",
    "                    elif p1[k]==p2[k]:\n",
    "                        probs[p1[k]] += (w1*p1_scores[k]) + (w2*p2_scores[k])\n",
    "                        probs[p3[k]] += (w3*p3_scores[k])\n",
    "                    elif p2[k]==p3[k]:\n",
    "                        probs[p2[k]] += (w2*p2_scores[k]) + (w3*p3_scores[k])\n",
    "                        probs[p1[k]] += (w1*p1_scores[k])\n",
    "                    elif p1[k]==p3[k]:\n",
    "                        probs[p1[k]] += (w1*p1_scores[k]) + (w3*p3_scores[k])\n",
    "                        probs[p2[k]] += (w2*p2_scores[k])\n",
    "                    else:\n",
    "                        probs[p1[k]] += (w1*p1_scores[k])\n",
    "                        probs[p2[k]] += (w2*p2_scores[k])\n",
    "                        probs[p3[k]] += (w3*p3_scores[k])\n",
    "\n",
    "                probs = np.array(probs).argsort()[-5:][::-1]\n",
    "                finprobs.append(probs)\n",
    "            tmap5 = map5eval2(np.array(finprobs),y_test[20000:30000])\n",
    "            if tmap5 > tm:\n",
    "                tm = tmap5\n",
    "                wm = [w1,w2,w3]\n",
    "            weights.append([w1,w2,w3])\n",
    "            test_map5s.append(tmap5)\n",
    "            print(\"test ensemble map5:\",map5eval2(np.array(finprobs),y_test[20000:30000]), \" - \",time.time()-strtime)\n",
    "            print(\"------\")\n",
    "print(wm,tm)\n"
   ]
  },
  {
   "cell_type": "code",
   "execution_count": 7,
   "metadata": {},
   "outputs": [
    {
     "name": "stdout",
     "output_type": "stream",
     "text": [
      "recommendation 1 : 9420\n",
      "recommendation 2 : 2857\n",
      "recommendation 3 : 1908\n",
      "recommendation 4 : 1366\n",
      "recommendation 5 : 1066\n"
     ]
    },
    {
     "data": {
      "text/plain": [
       "0.4013066666666667"
      ]
     },
     "execution_count": 7,
     "metadata": {},
     "output_type": "execute_result"
    }
   ],
   "source": [
    "map5eval(xgb_preds,y_test)"
   ]
  },
  {
   "cell_type": "code",
   "execution_count": 8,
   "metadata": {},
   "outputs": [
    {
     "name": "stdout",
     "output_type": "stream",
     "text": [
      "recommendation 1 : 10985\n",
      "recommendation 2 : 2695\n",
      "recommendation 3 : 1843\n",
      "recommendation 4 : 1308\n",
      "recommendation 5 : 967\n"
     ]
    },
    {
     "data": {
      "text/plain": [
       "0.4489077777777778"
      ]
     },
     "execution_count": 8,
     "metadata": {},
     "output_type": "execute_result"
    }
   ],
   "source": [
    "map5eval(rf_preds,y_test)"
   ]
  },
  {
   "cell_type": "code",
   "execution_count": 9,
   "metadata": {},
   "outputs": [
    {
     "name": "stdout",
     "output_type": "stream",
     "text": [
      "recommendation 1 : 11529\n",
      "recommendation 2 : 2497\n",
      "recommendation 3 : 1613\n",
      "recommendation 4 : 1104\n",
      "recommendation 5 : 884\n"
     ]
    },
    {
     "data": {
      "text/plain": [
       "0.4589322222222222"
      ]
     },
     "execution_count": 9,
     "metadata": {},
     "output_type": "execute_result"
    }
   ],
   "source": [
    "map5eval(ada_preds,y_test)"
   ]
  },
  {
   "cell_type": "code",
   "execution_count": null,
   "metadata": {},
   "outputs": [],
   "source": []
  }
 ],
 "metadata": {
  "kernelspec": {
   "display_name": "Python 3",
   "language": "python",
   "name": "python3"
  },
  "language_info": {
   "codemirror_mode": {
    "name": "ipython",
    "version": 3
   },
   "file_extension": ".py",
   "mimetype": "text/x-python",
   "name": "python",
   "nbconvert_exporter": "python",
   "pygments_lexer": "ipython3",
   "version": "3.6.8"
  }
 },
 "nbformat": 4,
 "nbformat_minor": 2
}
